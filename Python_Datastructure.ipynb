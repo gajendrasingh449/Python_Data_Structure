{
  "nbformat": 4,
  "nbformat_minor": 0,
  "metadata": {
    "colab": {
      "provenance": []
    },
    "kernelspec": {
      "name": "python3",
      "display_name": "Python 3"
    },
    "language_info": {
      "name": "python"
    }
  },
  "cells": [
    {
      "cell_type": "code",
      "execution_count": null,
      "metadata": {
        "id": "Ce0qk6WCPY5j"
      },
      "outputs": [],
      "source": []
    },
    {
      "cell_type": "markdown",
      "source": [
        "1. What are data structures, and why are they important?\n",
        "       Ans: Data structures are special ways of organizing and storing data in a computer so that it can be used efficiently.\n",
        "       Why Important:\n",
        "        1.Efficient Data Access\n",
        "        2.Better Performance\n",
        "        3.Solve Real Problems\n",
        "        4.Foundation of Algorithms\n",
        "\n",
        "2. Explain the difference between mutable and immutable data types with examples?\n",
        "       Ans:\n",
        "       Mutable = Can change\n",
        "       Immutable = Can’t change\n",
        "   "
      ],
      "metadata": {
        "id": "TPVpUe6GPh35"
      }
    },
    {
      "cell_type": "code",
      "source": [
        "x = [1, 2, 3]\n",
        "x[0] = 100\n",
        "print(x) #Mutable"
      ],
      "metadata": {
        "colab": {
          "base_uri": "https://localhost:8080/"
        },
        "id": "A36Em7A_Qk4X",
        "outputId": "01041ed9-4cd6-4c35-c75f-66c38448555e"
      },
      "execution_count": null,
      "outputs": [
        {
          "output_type": "stream",
          "name": "stdout",
          "text": [
            "[100, 2, 3]\n"
          ]
        }
      ]
    },
    {
      "cell_type": "code",
      "source": [
        "name = \"hello\"\n",
        "name[0] = \"H\" #Immutable"
      ],
      "metadata": {
        "colab": {
          "base_uri": "https://localhost:8080/",
          "height": 158
        },
        "id": "IEUirvPeRNRn",
        "outputId": "410814a0-94b3-41e2-bed9-631ab1444232"
      },
      "execution_count": null,
      "outputs": [
        {
          "output_type": "error",
          "ename": "TypeError",
          "evalue": "'str' object does not support item assignment",
          "traceback": [
            "\u001b[0;31m---------------------------------------------------------------------------\u001b[0m",
            "\u001b[0;31mTypeError\u001b[0m                                 Traceback (most recent call last)",
            "\u001b[0;32m<ipython-input-5-f9c4b823760d>\u001b[0m in \u001b[0;36m<cell line: 0>\u001b[0;34m()\u001b[0m\n\u001b[1;32m      1\u001b[0m \u001b[0mname\u001b[0m \u001b[0;34m=\u001b[0m \u001b[0;34m\"hello\"\u001b[0m\u001b[0;34m\u001b[0m\u001b[0;34m\u001b[0m\u001b[0m\n\u001b[0;32m----> 2\u001b[0;31m \u001b[0mname\u001b[0m\u001b[0;34m[\u001b[0m\u001b[0;36m0\u001b[0m\u001b[0;34m]\u001b[0m \u001b[0;34m=\u001b[0m \u001b[0;34m\"H\"\u001b[0m \u001b[0;31m#Immutable\u001b[0m\u001b[0;34m\u001b[0m\u001b[0;34m\u001b[0m\u001b[0m\n\u001b[0m",
            "\u001b[0;31mTypeError\u001b[0m: 'str' object does not support item assignment"
          ]
        }
      ]
    },
    {
      "cell_type": "markdown",
      "source": [
        "3. What are the main differences between lists and tuples in Python?\n",
        "    \n",
        "    Ans:\n",
        "    ![Screenshot 2025-05-12 170538.png](data:image/png;base64,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)"
      ],
      "metadata": {
        "id": "nShLrWLQRTty"
      }
    },
    {
      "cell_type": "markdown",
      "source": [
        "4.  Describe how dictionaries store data?\n",
        "    \n",
        "    Ans:\n",
        "    A dictionary in Python stores data as key–value pairs — like a real dictionary where a word (key) maps to a meaning (value).\n",
        "    student = {\"name\": \"Alice\", \"age\": 20, \"grade\": \"A\"}"
      ],
      "metadata": {
        "id": "3-LavYtsSGPj"
      }
    },
    {
      "cell_type": "markdown",
      "source": [
        "5. Why might you use a set instead of a list in Python?\n",
        "\n",
        "  Ans:\n",
        "  In case\n",
        "  1. Unique values are required in case data has duplicate values\n",
        "  2. No need to care about order of data\n",
        "  3. Checking if something is in a set is much faster than in a list\n",
        "\n"
      ],
      "metadata": {
        "id": "S5mko0tQSVuK"
      }
    },
    {
      "cell_type": "markdown",
      "source": [
        "6. What is a string in Python, and how is it different from a list?\n",
        "\n",
        "   Ans:\n",
        "   A string is a sequence of characters inside quotes.\n",
        "   name = \"Alice\"\n",
        "   It can include letters, numbers, spaces, and symbols.\n",
        "   Written with single ' ' or double \" \" quotes.\n",
        "\n",
        "   \n",
        "![image.png](data:image/png;base64,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)\n"
      ],
      "metadata": {
        "id": "BPc11hx3TGP5"
      }
    },
    {
      "cell_type": "markdown",
      "source": [
        "7. How do tuples ensure data integrity in Python?\n",
        "\n",
        "  Ans:Tuples are immutable - can't be changed."
      ],
      "metadata": {
        "id": "Db6i9stKTtkJ"
      }
    },
    {
      "cell_type": "markdown",
      "source": [
        "8. What is a hash table, and how does it relate to dictionaries in Python?\n",
        "\n",
        "   Ans:\n",
        "   A hash table is a data structure that stores data in a way that allows for fast access using a key.\n",
        "   It uses a hash function to convert the key into an index (or location) in an array.\n",
        "   This allows for quick lookups, insertions, and deletions.\n",
        "   \n",
        "   In Python, dictionaries are implemented using hash tables.\n",
        "   When you use a dictionary, Python automatically uses a hash table to store the key-value pairs.\n",
        "   The key is hashed to a unique location in memory, making access fast."
      ],
      "metadata": {
        "id": "vPZUeFrmT_HR"
      }
    },
    {
      "cell_type": "markdown",
      "source": [
        "9. Can lists contain different data types in Python?\n",
        "\n",
        "   Ans:\n",
        "   Yes, list can contain different data types in Python."
      ],
      "metadata": {
        "id": "t_w4-HV7Up3O"
      }
    },
    {
      "cell_type": "markdown",
      "source": [
        "10. Explain why strings are immutable in Python?\n",
        "  \n",
        "   Ans: Strings are immutable in Python to make your code safer, more memory-efficient, and to allow strings to be used as keys in dictionaries."
      ],
      "metadata": {
        "id": "5Goi57Jebk2l"
      }
    },
    {
      "cell_type": "markdown",
      "source": [
        "11. What advantages do dictionaries offer over lists for certain tasks?\n",
        "\n",
        "    Ans:\n",
        "    1.Dictionaries use keys to access data instantly (like a phonebook).\n",
        "      contacts = {\"Alice\": 123, \"Bob\": 456}\n",
        "      print(contacts[\"Bob\"])\n",
        "\n",
        "    2.In a dictionary, keys make data easier to understand.\n",
        "      student = {\"name\": \"Tom\", \"grade\": \"A\"}\n",
        "\n",
        "    3.In a list, it's harder to tell what each item means\n",
        "      student = [\"Tom\", \"A\"]\n",
        "      \n",
        "    4.Dictionary keys are unique, which helps avoid mistakes."
      ],
      "metadata": {
        "id": "Vx45zYLkb1qW"
      }
    },
    {
      "cell_type": "markdown",
      "source": [
        "12.  Describe a scenario where using a tuple would be preferable over a list?\n",
        "\n",
        "   Ans:\n",
        "   Use a tuple when you want data that should not change.\n",
        "   dob = (2000, 5, 12)\n",
        "   Since someone’s birthdate never changes, a tuple is perfect — it keeps the data safe and fixed."
      ],
      "metadata": {
        "id": "JLIO2hmlco-H"
      }
    },
    {
      "cell_type": "markdown",
      "source": [
        "13. How do sets handle duplicate values in Python?\n",
        "\n",
        "  Ans:\n",
        "  Sets automatically remove duplicates.\n",
        "  We cannot have the same value twice in a set — Python keeps only unique items."
      ],
      "metadata": {
        "id": "AsUP0L1qc9dZ"
      }
    },
    {
      "cell_type": "markdown",
      "source": [
        "14. How does the “in” keyword work differently for lists and dictionaries?\n",
        "\n",
        "   Ans:\n",
        "   'in' checks if a value is in the list.\n",
        "   \n",
        "   'in' checks if a key exists — not the value.\n"
      ],
      "metadata": {
        "id": "tvwxaBEIdJZp"
      }
    },
    {
      "cell_type": "markdown",
      "source": [
        "15. Can you modify the elements of a tuple? Explain why or why not?\n",
        "\n",
        "   Ans:\n",
        "   Tuples are immutable, so, can't be changed.\n",
        "\n",
        "   Why:\n",
        "   \n",
        "   Safety - Data won't accidentally change\n",
        "\n",
        "   Faster - Python can optimize immutable objects\n",
        "\n",
        "   Hashable - Tuples can be used as keys in dictionaries (lists can't)"
      ],
      "metadata": {
        "id": "oDnvxflVdvUY"
      }
    },
    {
      "cell_type": "markdown",
      "source": [
        "16. What is a nested dictionary, and give an example of its use case?\n",
        "\n",
        "      Ans: A nested dictionary is a dictionary inside another dictionary."
      ],
      "metadata": {
        "id": "Wn302DOBeJG4"
      }
    },
    {
      "cell_type": "code",
      "source": [
        "students = {\n",
        "    \"Alice\": {\"age\": 20, \"grade\": \"A\"},\n",
        "    \"Bob\": {\"age\": 22, \"grade\": \"B\"},\n",
        "}\n",
        "print(students[\"Alice\"][\"grade\"])"
      ],
      "metadata": {
        "colab": {
          "base_uri": "https://localhost:8080/"
        },
        "id": "V_mnqpqHeYTX",
        "outputId": "d8a54bbf-846e-48e6-f01a-62b11ae1f552"
      },
      "execution_count": null,
      "outputs": [
        {
          "output_type": "stream",
          "name": "stdout",
          "text": [
            "A\n"
          ]
        }
      ]
    },
    {
      "cell_type": "markdown",
      "source": [
        "17. Describe the time complexity of accessing elements in a dictionary?\n",
        "\n",
        "   Ans; In Python, accessing an element by key in a dictionary has:\n",
        "\n",
        "       Average Time Complexity:\n",
        "\n",
        "       This means it's very fast — Python uses a hash table behind the scenes.\n",
        "\n",
        "       No matter how large the dictionary is, lookup time stays nearly the same."
      ],
      "metadata": {
        "id": "vLM1vmXLeHlg"
      }
    },
    {
      "cell_type": "markdown",
      "source": [
        "18.  In what situations are lists preferred over dictionaries?\n",
        "\n",
        "    Ans:\n",
        "    1. When order matters.\n",
        "    2. We are in need to store duplicate items\n",
        "    3. Simple indexing, not key-value based"
      ],
      "metadata": {
        "id": "SJ-fdd9me9m-"
      }
    },
    {
      "cell_type": "markdown",
      "source": [
        "19. Why are dictionaries considered unordered, and how does that affect data retrieval?\n",
        "\n",
        "   Ans: Dictionaries in Python are implemented using hash tables, and the order of insertion was not part of the key-value pair's storage.\n",
        "   However, since Python 3.7, dictionaries preserve insertion order, but they are still considered unordered because you access values based on keys, not positions.\n",
        "\n",
        "   How Does This Affect Data Retrieval?\n",
        "\n",
        "   1. Access by Key, not by Order\n",
        "   2. Order Preservation (from Python 3.7+)"
      ],
      "metadata": {
        "id": "DJXpVgUMfSma"
      }
    },
    {
      "cell_type": "markdown",
      "source": [
        "20.  Explain the difference between a list and a dictionary in terms of data retrieval?\n",
        "\n",
        "    Ans:\n",
        "\n",
        "    ![image.png](data:image/png;base64,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)"
      ],
      "metadata": {
        "id": "qC2i-yIpfttu"
      }
    },
    {
      "cell_type": "markdown",
      "source": [
        "Practical Questions:\n"
      ],
      "metadata": {
        "id": "V6PSdcvsgHbW"
      }
    },
    {
      "cell_type": "code",
      "source": [
        "#1.Write a code to create a string with your name and print it?\n",
        "name='Gajendra'\n",
        "print(name)"
      ],
      "metadata": {
        "colab": {
          "base_uri": "https://localhost:8080/"
        },
        "id": "0eIYmkYWgE94",
        "outputId": "9c890239-218c-4ab4-aa6d-5032a1f00bd4"
      },
      "execution_count": null,
      "outputs": [
        {
          "output_type": "stream",
          "name": "stdout",
          "text": [
            "Gajendra\n"
          ]
        }
      ]
    },
    {
      "cell_type": "code",
      "source": [
        "#2.Write a code to find the length of the string \"Hello World\"?\n",
        "str='Hello World'\n",
        "len(str)"
      ],
      "metadata": {
        "colab": {
          "base_uri": "https://localhost:8080/"
        },
        "id": "2ho5X6S0eV3M",
        "outputId": "4374002f-43a3-4539-b57d-55efdf0cd2ed"
      },
      "execution_count": null,
      "outputs": [
        {
          "output_type": "execute_result",
          "data": {
            "text/plain": [
              "11"
            ]
          },
          "metadata": {},
          "execution_count": 13
        }
      ]
    },
    {
      "cell_type": "code",
      "source": [
        "#3.Write a code to slice the first 3 characters from the string \"Python Programming\"?\n",
        "str='Python Programming'\n",
        "str[0:3]"
      ],
      "metadata": {
        "colab": {
          "base_uri": "https://localhost:8080/",
          "height": 36
        },
        "id": "Jllj9cb0hHws",
        "outputId": "0da41d98-4903-44a5-a908-29fb81f8c7e7"
      },
      "execution_count": null,
      "outputs": [
        {
          "output_type": "execute_result",
          "data": {
            "text/plain": [
              "'Pyt'"
            ],
            "application/vnd.google.colaboratory.intrinsic+json": {
              "type": "string"
            }
          },
          "metadata": {},
          "execution_count": 17
        }
      ]
    },
    {
      "cell_type": "code",
      "source": [
        "#4 Write a code to convert the string \"hello\" to uppercase?\n",
        "str=\"hello\"\n",
        "str.upper()"
      ],
      "metadata": {
        "colab": {
          "base_uri": "https://localhost:8080/",
          "height": 36
        },
        "id": "lHhzs5AdhXj9",
        "outputId": "617c3e20-d7fd-437b-85fe-8a060259c810"
      },
      "execution_count": null,
      "outputs": [
        {
          "output_type": "execute_result",
          "data": {
            "text/plain": [
              "'HELLO'"
            ],
            "application/vnd.google.colaboratory.intrinsic+json": {
              "type": "string"
            }
          },
          "metadata": {},
          "execution_count": 22
        }
      ]
    },
    {
      "cell_type": "code",
      "source": [
        "5# Write a code to replace the word \"apple\" with \"orange\" in the string \"I like apple\"?\n",
        "str='I like apple'\n",
        "str.replace('apple','orange')"
      ],
      "metadata": {
        "colab": {
          "base_uri": "https://localhost:8080/",
          "height": 36
        },
        "id": "2l3uo-9chrnf",
        "outputId": "3e52034a-9ec5-4597-ccf1-2cea300af1ea"
      },
      "execution_count": null,
      "outputs": [
        {
          "output_type": "execute_result",
          "data": {
            "text/plain": [
              "'I like orange'"
            ],
            "application/vnd.google.colaboratory.intrinsic+json": {
              "type": "string"
            }
          },
          "metadata": {},
          "execution_count": 24
        }
      ]
    },
    {
      "cell_type": "code",
      "source": [
        "6# Write a code to create a list with numbers 1 to 5 and print it.\n",
        "l=[1,2,3,4,5]\n",
        "print(l)"
      ],
      "metadata": {
        "colab": {
          "base_uri": "https://localhost:8080/"
        },
        "id": "N-xet7vuh2hM",
        "outputId": "81f362ba-9eb7-45ba-932f-7cf86ace6911"
      },
      "execution_count": null,
      "outputs": [
        {
          "output_type": "stream",
          "name": "stdout",
          "text": [
            "[1, 2, 3, 4, 5]\n"
          ]
        }
      ]
    },
    {
      "cell_type": "code",
      "source": [
        "7# Write a code to append the number 10 to the list [1, 2, 3, 4]?\n",
        "l=[1,2,3,4]\n",
        "l.append(10)\n",
        "print(l)"
      ],
      "metadata": {
        "colab": {
          "base_uri": "https://localhost:8080/"
        },
        "id": "z0ypuTrDh_Zf",
        "outputId": "81747ff1-10d9-43a2-b6cc-5e96d8be50d3"
      },
      "execution_count": null,
      "outputs": [
        {
          "output_type": "stream",
          "name": "stdout",
          "text": [
            "[1, 2, 3, 4, 10]\n"
          ]
        }
      ]
    },
    {
      "cell_type": "code",
      "source": [
        "8# Write a code to remove the number 3 from the list [1, 2, 3, 4, 5]?\n",
        "l=[1,2,3,4,5]\n",
        "l.remove(3)\n",
        "print(l)"
      ],
      "metadata": {
        "colab": {
          "base_uri": "https://localhost:8080/"
        },
        "id": "vKcRDqBviLrh",
        "outputId": "282f4e8f-d09d-48e1-dbfb-9082c4d9fb01"
      },
      "execution_count": null,
      "outputs": [
        {
          "output_type": "stream",
          "name": "stdout",
          "text": [
            "[1, 2, 4, 5]\n"
          ]
        }
      ]
    },
    {
      "cell_type": "code",
      "source": [
        "9# Write a code to access the second element in the list ['a', 'b', 'c', 'd']?\n",
        "l=['a','b','c','d']\n",
        "l[1]\n"
      ],
      "metadata": {
        "colab": {
          "base_uri": "https://localhost:8080/",
          "height": 36
        },
        "id": "BIuIeeG6iUui",
        "outputId": "2ddff613-b54d-428b-d28c-8da01810add9"
      },
      "execution_count": null,
      "outputs": [
        {
          "output_type": "execute_result",
          "data": {
            "text/plain": [
              "'b'"
            ],
            "application/vnd.google.colaboratory.intrinsic+json": {
              "type": "string"
            }
          },
          "metadata": {},
          "execution_count": 33
        }
      ]
    },
    {
      "cell_type": "code",
      "source": [
        "10# Write a code to reverse the list [10, 20, 30, 40, 50].\n",
        "l=[10, 20, 30, 40, 50]\n",
        "l.reverse()\n",
        "print(l)"
      ],
      "metadata": {
        "colab": {
          "base_uri": "https://localhost:8080/"
        },
        "id": "yeycgtpFi9jF",
        "outputId": "c5f5f74b-1935-485e-fafb-082b39d7fd1b"
      },
      "execution_count": null,
      "outputs": [
        {
          "output_type": "stream",
          "name": "stdout",
          "text": [
            "[50, 40, 30, 20, 10]\n"
          ]
        }
      ]
    },
    {
      "cell_type": "code",
      "source": [
        "11# Write a code to create a tuple with the elements 100, 200, 300 and print it\n",
        "t=(100,200,300)\n",
        "print(t)"
      ],
      "metadata": {
        "colab": {
          "base_uri": "https://localhost:8080/"
        },
        "id": "GTgSXkqYjH6w",
        "outputId": "0ea03f85-19ee-4a4f-f291-4b18ad125c5b"
      },
      "execution_count": null,
      "outputs": [
        {
          "output_type": "stream",
          "name": "stdout",
          "text": [
            "(100, 200, 300)\n"
          ]
        }
      ]
    },
    {
      "cell_type": "code",
      "source": [
        "12# Write a code to access the second-to-last element of the tuple ('red', 'green', 'blue', 'yellow').\n",
        "t=('red', 'green', 'blue', 'yellow')\n",
        "t[1:]\n"
      ],
      "metadata": {
        "colab": {
          "base_uri": "https://localhost:8080/"
        },
        "id": "6CYuNaCMjP7L",
        "outputId": "2cca5ae4-9265-4341-a00a-0b2163ee7302"
      },
      "execution_count": null,
      "outputs": [
        {
          "output_type": "execute_result",
          "data": {
            "text/plain": [
              "('green', 'blue', 'yellow')"
            ]
          },
          "metadata": {},
          "execution_count": 46
        }
      ]
    },
    {
      "cell_type": "code",
      "source": [
        "13# Write a code to find the minimum number in the tuple (10, 20, 5, 15)?\n",
        "t=(10, 20, 5, 15)\n",
        "min(t)"
      ],
      "metadata": {
        "colab": {
          "base_uri": "https://localhost:8080/"
        },
        "id": "mVXFv10Zj1UO",
        "outputId": "95ea6877-d117-4fa3-b9a2-1ca5bc41ce2d"
      },
      "execution_count": null,
      "outputs": [
        {
          "output_type": "execute_result",
          "data": {
            "text/plain": [
              "5"
            ]
          },
          "metadata": {},
          "execution_count": 49
        }
      ]
    },
    {
      "cell_type": "code",
      "source": [
        "14# Write a code to find the index of the element \"cat\" in the tuple ('dog', 'cat', 'rabbit')?\n",
        "t=('dog', 'cat', 'rabbit')\n",
        "t.index('cat')\n"
      ],
      "metadata": {
        "colab": {
          "base_uri": "https://localhost:8080/"
        },
        "id": "3G3CVMdykb2-",
        "outputId": "0bb188f2-852f-4e6c-b5ce-4612c93b7a0b"
      },
      "execution_count": null,
      "outputs": [
        {
          "output_type": "execute_result",
          "data": {
            "text/plain": [
              "1"
            ]
          },
          "metadata": {},
          "execution_count": 51
        }
      ]
    },
    {
      "cell_type": "code",
      "source": [
        "15# Write a code to create a tuple containing three different fruits and check if \"kiwi\" is in it.\n",
        "t=('Kiwi','apple','Mango')\n",
        "\"Kiwi\" in t"
      ],
      "metadata": {
        "colab": {
          "base_uri": "https://localhost:8080/"
        },
        "id": "psYNXnWtnsQs",
        "outputId": "49a487a0-c4ab-4f7b-b1d2-bd65f12c097b"
      },
      "execution_count": null,
      "outputs": [
        {
          "output_type": "execute_result",
          "data": {
            "text/plain": [
              "True"
            ]
          },
          "metadata": {},
          "execution_count": 55
        }
      ]
    },
    {
      "cell_type": "code",
      "source": [
        "16# Write a code to create a set with the elements 'a', 'b', 'c' and print it.\n",
        "set11={'a','b','c'}\n",
        "print(set11)"
      ],
      "metadata": {
        "colab": {
          "base_uri": "https://localhost:8080/"
        },
        "id": "Gm6ib-i-ox_g",
        "outputId": "fe4cf4db-49af-4d12-facb-00f0354707b1"
      },
      "execution_count": 126,
      "outputs": [
        {
          "output_type": "stream",
          "name": "stdout",
          "text": [
            "{'b', 'a', 'c'}\n"
          ]
        }
      ]
    },
    {
      "cell_type": "code",
      "source": [
        "17# Write a code to clear all elements from the set {1, 2, 3, 4, 5}.\n",
        "s10={1,2,3,4,5}\n",
        "s10.clear()\n",
        "print(s10)"
      ],
      "metadata": {
        "colab": {
          "base_uri": "https://localhost:8080/"
        },
        "id": "ndwtAGwUyLDc",
        "outputId": "f23372cf-9c48-4ec1-8e3f-6db15d74af0b"
      },
      "execution_count": 127,
      "outputs": [
        {
          "output_type": "stream",
          "name": "stdout",
          "text": [
            "set()\n"
          ]
        }
      ]
    },
    {
      "cell_type": "code",
      "source": [
        "18# Write a code to remove the element 4 from the set {1, 2, 3, 4}.\n",
        "set12={1,2,3,4}\n",
        "set12.remove(4)\n",
        "print(set12)"
      ],
      "metadata": {
        "colab": {
          "base_uri": "https://localhost:8080/"
        },
        "id": "taigRWTrpHBh",
        "outputId": "e1f3d5ea-67ff-4b19-fa10-3cace3f27e58"
      },
      "execution_count": null,
      "outputs": [
        {
          "output_type": "stream",
          "name": "stdout",
          "text": [
            "{1, 2, 3}\n"
          ]
        }
      ]
    },
    {
      "cell_type": "code",
      "source": [
        "19#  Write a code to find the union of two sets {1, 2, 3} and {3, 4, 5}.\n",
        "set1={1,2,3}\n",
        "set2={3,4,5}\n",
        "set1|set2"
      ],
      "metadata": {
        "colab": {
          "base_uri": "https://localhost:8080/"
        },
        "id": "uNJ0RiWmpa_B",
        "outputId": "5f503e00-24ac-43aa-82d3-9f3fed52561f"
      },
      "execution_count": null,
      "outputs": [
        {
          "output_type": "execute_result",
          "data": {
            "text/plain": [
              "{1, 2, 3, 4, 5}"
            ]
          },
          "metadata": {},
          "execution_count": 65
        }
      ]
    },
    {
      "cell_type": "code",
      "source": [
        "20# Write a code to find the intersection of two sets {1, 2, 3} and {2, 3, 4}.\n",
        "set1={1,2,3}\n",
        "set2={2,3,4}\n",
        "set1&set2"
      ],
      "metadata": {
        "colab": {
          "base_uri": "https://localhost:8080/"
        },
        "id": "zThd2YE6ptsH",
        "outputId": "791ec1ea-209b-4f2b-af63-fe0e5de8ee8e"
      },
      "execution_count": null,
      "outputs": [
        {
          "output_type": "execute_result",
          "data": {
            "text/plain": [
              "{2, 3}"
            ]
          },
          "metadata": {},
          "execution_count": 68
        }
      ]
    },
    {
      "cell_type": "code",
      "source": [
        "21# Write a code to create a dictionary with the keys \"name\", \"age\", and \"city\", and print it.\n",
        "dict_1={'Name': 'Gajendra','Age': 30,'City': 'Noida'}\n",
        "print(dict_1)"
      ],
      "metadata": {
        "colab": {
          "base_uri": "https://localhost:8080/"
        },
        "id": "OkPW-vrrp31D",
        "outputId": "4cc9acda-58eb-4b92-bc4a-349d0136f626"
      },
      "execution_count": null,
      "outputs": [
        {
          "output_type": "stream",
          "name": "stdout",
          "text": [
            "{'Name': 'Gajendra', 'Age': 30, 'City': 'Noida'}\n"
          ]
        }
      ]
    },
    {
      "cell_type": "code",
      "source": [
        "22#  Write a code to add a new key-value pair \"country\": \"USA\" to the dictionary {'name': 'John', 'age': 25}.\n",
        "dict_1={'name':'John','age':25}\n",
        "dict_1['country']='USA'\n",
        "print(dict_1)"
      ],
      "metadata": {
        "colab": {
          "base_uri": "https://localhost:8080/"
        },
        "id": "GHubxVDWqGlz",
        "outputId": "48d27439-d8a0-4837-b4be-c27d5f2ff82f"
      },
      "execution_count": null,
      "outputs": [
        {
          "output_type": "stream",
          "name": "stdout",
          "text": [
            "{'name': 'John', 'age': 25, 'country': 'USA'}\n"
          ]
        }
      ]
    },
    {
      "cell_type": "code",
      "source": [
        "23#  Write a code to access the value associated with the key \"name\" in the dictionary {'name': 'Alice', 'age': 30}.\n",
        "dict_1={'name': 'Alice', 'age': 30}\n",
        "dict_1['name']"
      ],
      "metadata": {
        "colab": {
          "base_uri": "https://localhost:8080/",
          "height": 36
        },
        "id": "VRphO5WhqqYg",
        "outputId": "33236969-bed0-4e0f-a5d1-a2214fda917b"
      },
      "execution_count": null,
      "outputs": [
        {
          "output_type": "execute_result",
          "data": {
            "text/plain": [
              "'Alice'"
            ],
            "application/vnd.google.colaboratory.intrinsic+json": {
              "type": "string"
            }
          },
          "metadata": {},
          "execution_count": 76
        }
      ]
    },
    {
      "cell_type": "code",
      "source": [
        "24# Write a code to remove the key \"age\" from the dictionary {'name': 'Bob', 'age': 22, 'city': 'New York'}.\n",
        "dict_1={'name': 'Bob', 'age': 22, 'city': 'New York'}\n",
        "dict_1.pop('age')\n",
        "print(dict_1)"
      ],
      "metadata": {
        "colab": {
          "base_uri": "https://localhost:8080/"
        },
        "id": "sEPoXA8zrCmb",
        "outputId": "4ab32aae-f5d9-4f9e-84aa-59b570146b7d"
      },
      "execution_count": null,
      "outputs": [
        {
          "output_type": "stream",
          "name": "stdout",
          "text": [
            "{'name': 'Bob', 'city': 'New York'}\n"
          ]
        }
      ]
    },
    {
      "cell_type": "code",
      "source": [
        "25# Write a code to check if the key \"city\" exists in the dictionary {'name': 'Alice', 'city': 'Paris'}.\n",
        "dict_1={'name': 'Alice', 'city': 'Paris'}\n",
        "'city' in dict_1"
      ],
      "metadata": {
        "colab": {
          "base_uri": "https://localhost:8080/"
        },
        "id": "uCwm6MTYrU6O",
        "outputId": "14aed052-8fe6-45d5-e77c-368ffdc861a6"
      },
      "execution_count": null,
      "outputs": [
        {
          "output_type": "execute_result",
          "data": {
            "text/plain": [
              "True"
            ]
          },
          "metadata": {},
          "execution_count": 80
        }
      ]
    },
    {
      "cell_type": "code",
      "source": [
        "26# Write a code to create a list, a tuple, and a dictionary, and print them all.\n",
        "list=[1,2,3]\n",
        "tuple=(1,2,3)\n",
        "dict_1={'name': 'Alice', 'city': 'Paris'}\n",
        "print('1.Below is a list:\\n',list)\n",
        "print('2.Below is a tuple:\\n',tuple)\n",
        "print('3.Below is a dictionary:\\n',dict_1)"
      ],
      "metadata": {
        "colab": {
          "base_uri": "https://localhost:8080/"
        },
        "id": "iR3_jUvvrw9H",
        "outputId": "4fd41d8c-89ea-41d3-8d93-c6f87e9d3f65"
      },
      "execution_count": null,
      "outputs": [
        {
          "output_type": "stream",
          "name": "stdout",
          "text": [
            "1.Below is a list:\n",
            " [1, 2, 3]\n",
            "2.Below is a tuple:\n",
            " (1, 2, 3)\n",
            "3.Below is a dictionary:\n",
            " {'name': 'Alice', 'city': 'Paris'}\n"
          ]
        }
      ]
    },
    {
      "cell_type": "code",
      "source": [
        "27#  Write a code to create a list of 5 random numbers between 1 and 100, sort it in ascending order, and print the result.(replaced)\n",
        "l=[99,1,3,6,8,]\n",
        "l.sort()\n",
        "print(l)"
      ],
      "metadata": {
        "colab": {
          "base_uri": "https://localhost:8080/"
        },
        "id": "V4W2z5ePsUpy",
        "outputId": "396d07c0-c519-4f97-9aa4-057a4596937f"
      },
      "execution_count": null,
      "outputs": [
        {
          "output_type": "stream",
          "name": "stdout",
          "text": [
            "[1, 3, 6, 8, 99]\n"
          ]
        }
      ]
    },
    {
      "cell_type": "code",
      "source": [
        "28# Write a code to create a list with strings and print the element at the third index\n",
        "fruits = [\"apple\", \"banana\", \"cherry\", \"mango\", \"orange\"]\n",
        "print('Item at third index: ',fruits[3])"
      ],
      "metadata": {
        "colab": {
          "base_uri": "https://localhost:8080/"
        },
        "id": "Y80O1A_Us_Sv",
        "outputId": "3d2a7b27-df6a-4d57-eaa5-d6915bad1c19"
      },
      "execution_count": null,
      "outputs": [
        {
          "output_type": "stream",
          "name": "stdout",
          "text": [
            "Item at third index:  mango\n"
          ]
        }
      ]
    },
    {
      "cell_type": "code",
      "source": [
        "29#  Write a code to combine two dictionaries into one and print the result.\n",
        "dict1={'name': 'Bob', 'age': 22}\n",
        "dict2={'city': 'New York','country': 'USA'}\n",
        "dict3=dict1|dict2\n",
        "print(dict3)\n"
      ],
      "metadata": {
        "colab": {
          "base_uri": "https://localhost:8080/"
        },
        "id": "zcUDoiiQtVTX",
        "outputId": "7f510c7d-11a4-4fc4-9562-0ebd255a45a2"
      },
      "execution_count": null,
      "outputs": [
        {
          "output_type": "stream",
          "name": "stdout",
          "text": [
            "{'name': 'Bob', 'age': 22, 'city': 'New York', 'country': 'USA'}\n"
          ]
        }
      ]
    },
    {
      "cell_type": "code",
      "source": [
        "30#  Write a code to convert a list of strings into a set.\n",
        "my_list = ['Mango', 'Orange', 'Apple']\n",
        "a_set = set(my_list)\n",
        "print(a_set)\n"
      ],
      "metadata": {
        "colab": {
          "base_uri": "https://localhost:8080/"
        },
        "id": "gJ7nbpgUuUsv",
        "outputId": "fdad6ab2-92ea-445a-8bdb-367ca2c616d8"
      },
      "execution_count": 131,
      "outputs": [
        {
          "output_type": "stream",
          "name": "stdout",
          "text": [
            "{'Orange', 'Apple', 'Mango'}\n"
          ]
        }
      ]
    }
  ]
}